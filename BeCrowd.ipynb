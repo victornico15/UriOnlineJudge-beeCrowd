{
  "nbformat": 4,
  "nbformat_minor": 0,
  "metadata": {
    "colab": {
      "name": "BeCrowd.ipynb",
      "provenance": [],
      "authorship_tag": "ABX9TyN18eE0g5e8U4lvlWbsWweD"
    },
    "kernelspec": {
      "name": "python3",
      "display_name": "Python 3"
    },
    "language_info": {
      "name": "python"
    },
    "accelerator": "GPU"
  },
  "cells": [
    {
      "cell_type": "code",
      "execution_count": null,
      "metadata": {
        "id": "l9EXiZxDY5eq"
      },
      "outputs": [],
      "source": [
        "#problem 1000#\n",
        "\n",
        "print(\"Hello World!\")"
      ]
    },
    {
      "cell_type": "code",
      "source": [
        "#problem 1001#\n",
        "A = int(input())\n",
        "B = int(input())\n",
        "\n",
        "X=A+B\n",
        "\n",
        "#print(\"X = \",X,\"\\n\")# \n",
        "print(\"X = %i\" %X)"
      ],
      "metadata": {
        "id": "zCsUypIXchsE"
      },
      "execution_count": null,
      "outputs": []
    },
    {
      "cell_type": "code",
      "source": [
        "#problem 1002#\n",
        "import math \n",
        "n=3.14159\n",
        "raio = float(input())\n",
        "area=(n * raio**2)\n",
        "print(\"A=%.4f\"%area)"
      ],
      "metadata": {
        "id": "Scn4xh90fWIj"
      },
      "execution_count": null,
      "outputs": []
    },
    {
      "cell_type": "code",
      "source": [
        "#problem 1003#\n",
        "A = int(input())\n",
        "B = int(input())\n",
        "SOMA=A+B\n",
        "\n",
        "print(\"SOMA = %i\"%SOMA)"
      ],
      "metadata": {
        "id": "X3jRlSKugFzt"
      },
      "execution_count": null,
      "outputs": []
    },
    {
      "cell_type": "code",
      "source": [
        "#problem 1004#\n",
        "A = int(input())\n",
        "B = int(input())\n",
        "PROD = A*B\n",
        "print(\"PROD = %i\"%PROD)"
      ],
      "metadata": {
        "id": "Ed5RH_lKmwNW"
      },
      "execution_count": null,
      "outputs": []
    },
    {
      "cell_type": "code",
      "source": [
        "#1005#\n",
        "A = (float(input()))\n",
        "B = (float(input()))\n",
        "\n",
        "Media = ((A*3.5)+(B*7.5))/11\n",
        "\n",
        "print(\"MEDIA = %.5f\"%Media)"
      ],
      "metadata": {
        "id": "HjCTG4ni5oZD"
      },
      "execution_count": null,
      "outputs": []
    },
    {
      "cell_type": "code",
      "source": [
        "#1006#\n",
        "A = (float(input()))\n",
        "B = (float(input()))\n",
        "C = (float(input()))\n",
        "Media = ((A*2)+(B*3)+(C*5))/10\n",
        "\n",
        "print(\"MEDIA = %.1f\"%Media)"
      ],
      "metadata": {
        "id": "qYMR-QOw5qKC"
      },
      "execution_count": null,
      "outputs": []
    },
    {
      "cell_type": "code",
      "source": [
        "#1007#\n",
        "A = (int(input()))\n",
        "B = (int(input()))\n",
        "C = (int(input()))\n",
        "D = (int(input()))\n",
        "DIFERENCA = (A * B - C * D)\n",
        "\n",
        "print(\"DIFERENCA = %i\"%DIFERENCA)"
      ],
      "metadata": {
        "id": "vCWN2ul45qUs"
      },
      "execution_count": null,
      "outputs": []
    },
    {
      "cell_type": "code",
      "source": [
        "#1008#\n",
        "NumberE = (int(input()))\n",
        "WorkH = (float(input()))\n",
        "TimeWork = (float(input()))\n",
        "\n",
        "TimeWork = TimeWork*WorkH\n",
        "\n",
        "print(\"NUMBER = %i\"%NumberE)\n",
        "print(\"SALARY = U$ %.2f\"%TimeWork) \n"
      ],
      "metadata": {
        "id": "Oz045v-N5tPi"
      },
      "execution_count": null,
      "outputs": []
    },
    {
      "cell_type": "code",
      "source": [
        "# 1009 Salário com Bônus#\n",
        "NameE = input()\n",
        "Salary = float(input())\n",
        "Comission = float(input())\n",
        "\n",
        "PayCheck = Salary+(Comission*0.15)\n",
        "\n",
        "print(\"TOTAL = R$ %.2f\"%PayCheck)\n"
      ],
      "metadata": {
        "id": "1y86335k5u_a",
        "colab": {
          "base_uri": "https://localhost:8080/"
        },
        "outputId": "ac825e5b-d071-4f1d-ce8c-ecd43f7453a8"
      },
      "execution_count": null,
      "outputs": [
        {
          "output_type": "stream",
          "name": "stdout",
          "text": [
            "joao\n",
            "500\n",
            "1230.30\n",
            "TOTAL = R$ 684.545\n"
          ]
        }
      ]
    },
    {
      "cell_type": "code",
      "source": [
        "#| 1010 Cálculo Simples\n",
        "\n",
        "linha1 = input().split(\" \")\n",
        "linha2 = input().split(\" \")\n",
        "\n",
        "cod1, qtde1, valor1 = linha1\n",
        "cod2, qtde2, valor2 = linha2\n",
        "\n",
        "total = (int(qtde1) * float(valor1)) + (int(qtde2) * float(valor2))\n",
        "\n",
        "print(\"VALOR A PAGAR: R$ %0.2f\" %total)"
      ],
      "metadata": {
        "id": "2cSnI5zE9nCI"
      },
      "execution_count": null,
      "outputs": []
    }
  ]
}