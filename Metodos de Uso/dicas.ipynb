{
 "cells": [
  {
   "cell_type": "code",
   "execution_count": null,
   "metadata": {},
   "outputs": [],
   "source": [
    "\n",
    "\"\"\" MANIPULAÇÕES DE STRING \"\"\"\n",
    "#REVERTER STRING SEM A FUNÇÃO REVERSED\n",
    "str=\"LearnPython\"\n",
    "\n",
    "length_str=len(str)\n",
    "\n",
    "\n",
    "sliced_str=str[length_str::-1] \n",
    "print (\"The sliced string is:\",sliced_str)\n",
    "\n"
   ]
  },
  {
   "cell_type": "code",
   "execution_count": null,
   "metadata": {},
   "outputs": [],
   "source": [
    "#reverter string com reversed \n",
    "\n",
    "str = \"LearnPython\"\n",
    "\n",
    "reversed_string=''.join(reversed(str))\n",
    "\n",
    "print(\"The Reversed String is\", reversed_string)  "
   ]
  },
  {
   "cell_type": "code",
   "execution_count": null,
   "metadata": {},
   "outputs": [],
   "source": [
    "##reverter string por loop\n",
    "str = \"LearnPython\"\n",
    "string_reversed=[]\n",
    "i = len(str)\n",
    "while i > 0: \n",
    "    string_reversed += str[i-1]\n",
    "    i = i - 1 # decrement index\n",
    "print(\"The Reversed String is\", string_reversed) \n"
   ]
  },
  {
   "cell_type": "code",
   "execution_count": null,
   "metadata": {},
   "outputs": [],
   "source": [
    "#METODO RECURSIVO DE REVERTER \n",
    "def reverse_string(string): \n",
    "    if len(string) == 0: \n",
    "        return string \n",
    "    else: \n",
    "        return reverse_string(string[1:]) + string[0] \n",
    "  \n",
    "string = \"LearnPython\"\n",
    "  \n",
    "print (\"The original string  is : \",end=\"\") \n",
    "print (string) \n",
    "  \n",
    "print (\"The reversed string is : \",end=\"\") \n",
    "print (reverse_string(string))  "
   ]
  }
 ],
 "metadata": {
  "language_info": {
   "name": "python"
  },
  "orig_nbformat": 4
 },
 "nbformat": 4,
 "nbformat_minor": 2
}
