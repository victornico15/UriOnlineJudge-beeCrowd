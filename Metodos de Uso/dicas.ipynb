{
 "cells": [
  {
   "cell_type": "code",
   "execution_count": null,
   "metadata": {},
   "outputs": [],
   "source": [
    "\n",
    "\"\"\" MANIPULAÇÕES DE STRING \"\"\"\n",
    "#REVERTER STRING SEM A FUNÇÃO REVERSED\n",
    "str=\"LearnPython\"\n",
    "\n",
    "length_str=len(str)\n",
    "\n",
    "\n",
    "sliced_str=str[length_str::-1] \n",
    "print (\"The sliced string is:\",sliced_str)\n",
    "\n"
   ]
  },
  {
   "cell_type": "code",
   "execution_count": null,
   "metadata": {},
   "outputs": [],
   "source": [
    "\"\"\" Manipulação de decimais \"\"\"\n",
    "\n",
    "print(\"{:.2f}\".format(aux/count)) # quando se quer float em inteiros "
   ]
  },
  {
   "cell_type": "code",
   "execution_count": null,
   "metadata": {},
   "outputs": [],
   "source": [
    "#reverter string com reversed \n",
    "\n",
    "str = \"LearnPython\"\n",
    "\n",
    "reversed_string=''.join(reversed(str))\n",
    "\n",
    "print(\"The Reversed String is\", reversed_string)  "
   ]
  },
  {
   "cell_type": "code",
   "execution_count": null,
   "metadata": {},
   "outputs": [],
   "source": [
    "##reverter string por loop\n",
    "str = \"LearnPython\"\n",
    "string_reversed=[]\n",
    "i = len(str)\n",
    "while i > 0: \n",
    "    string_reversed += str[i-1]\n",
    "    i = i - 1 # decrement index\n",
    "print(\"The Reversed String is\", string_reversed) \n"
   ]
  },
  {
   "cell_type": "code",
   "execution_count": null,
   "metadata": {},
   "outputs": [],
   "source": [
    "#METODO RECURSIVO DE REVERTER \n",
    "def reverse_string(string): \n",
    "    if len(string) == 0: \n",
    "        return string \n",
    "    else: \n",
    "        return reverse_string(string[1:]) + string[0] \n",
    "  \n",
    "string = \"LearnPython\"\n",
    "  \n",
    "print (\"The original string  is : \",end=\"\") \n",
    "print (string) \n",
    "  \n",
    "print (\"The reversed string is : \",end=\"\") \n",
    "print (reverse_string(string))  "
   ]
  },
  {
   "cell_type": "code",
   "execution_count": null,
   "metadata": {},
   "outputs": [],
   "source": [
    ".shape(0)# contador de arrays  em um for diferenciado\n",
    "sliced_str=str[length_str::-1] #for para andar do formato q vc quiser   start::final::contador\n"
   ]
  }
 ],
 "metadata": {
  "kernelspec": {
   "display_name": "Python 3.10.5 64-bit",
   "language": "python",
   "name": "python3"
  },
  "language_info": {
   "codemirror_mode": {
    "name": "ipython",
    "version": 3
   },
   "file_extension": ".py",
   "mimetype": "text/x-python",
   "name": "python",
   "nbconvert_exporter": "python",
   "pygments_lexer": "ipython3",
   "version": "3.10.5"
  },
  "orig_nbformat": 4,
  "vscode": {
   "interpreter": {
    "hash": "05e7abd86e48c818ed61a9de938025b203e1f443f714ea9235372e47a1ee3433"
   }
  }
 },
 "nbformat": 4,
 "nbformat_minor": 2
}
