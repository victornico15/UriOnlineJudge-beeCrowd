{
 "cells": [
  {
   "cell_type": "code",
   "execution_count": null,
   "metadata": {},
   "outputs": [],
   "source": [
    "\n",
    "\"\"\" MANIPULAÇÕES DE STRING \"\"\"\n",
    "#REVERTER STRING SEM A FUNÇÃO REVERSED\n",
    "str=\"LearnPython\"\n",
    "\n",
    "length_str=len(str)\n",
    "\n",
    "\n",
    "sliced_str=str[length_str::-1] \n",
    "print (\"The sliced string is:\",sliced_str)\n",
    "\n"
   ]
  },
  {
   "cell_type": "code",
   "execution_count": null,
   "metadata": {},
   "outputs": [],
   "source": [
    "#reverter string com reversed \n",
    "\n",
    "str = \"LearnPython\"\n",
    "\n",
    "reversed_string=''.join(reversed(str))\n",
    "\n",
    "print(\"The Reversed String is\", reversed_string)  "
   ]
  },
  {
   "cell_type": "code",
   "execution_count": null,
   "metadata": {},
   "outputs": [],
   "source": [
    "##reverter string por loop\n",
    "str = \"LearnPython\"\n",
    "string_reversed=[]\n",
    "i = len(str)\n",
    "while i > 0: \n",
    "    string_reversed += str[i-1]\n",
    "    i = i - 1 # decrement index\n",
    "print(\"The Reversed String is\", string_reversed) \n"
   ]
  },
  {
   "cell_type": "code",
   "execution_count": null,
   "metadata": {},
   "outputs": [],
   "source": [
    "#METODO RECURSIVO DE REVERTER \n",
    "def reverse_string(string): \n",
    "    if len(string) == 0: \n",
    "        return string \n",
    "    else: \n",
    "        return reverse_string(string[1:]) + string[0] \n",
    "  \n",
    "string = \"LearnPython\"\n",
    "  \n",
    "print (\"The original string  is : \",end=\"\") \n",
    "print (string) \n",
    "  \n",
    "print (\"The reversed string is : \",end=\"\") \n",
    "print (reverse_string(string))  "
   ]
  },
  {
   "cell_type": "code",
   "execution_count": 2,
   "metadata": {},
   "outputs": [
    {
     "ename": "ModuleNotFoundError",
     "evalue": "No module named 'panda'",
     "output_type": "error",
     "traceback": [
      "\u001b[1;31m---------------------------------------------------------------------------\u001b[0m",
      "\u001b[1;31mModuleNotFoundError\u001b[0m                       Traceback (most recent call last)",
      "\u001b[1;32mc:\\Users\\vnesp\\Dropbox\\My PC (LAPTOP-FS94BQ5T)\\Documents\\GitHub\\UriOnlineJudge-beeCrowd\\Metodos de Uso\\dicas.ipynb Cell 5'\u001b[0m in \u001b[0;36m<cell line: 1>\u001b[1;34m()\u001b[0m\n\u001b[1;32m----> <a href='vscode-notebook-cell:/c%3A/Users/vnesp/Dropbox/My%20PC%20%28LAPTOP-FS94BQ5T%29/Documents/GitHub/UriOnlineJudge-beeCrowd/Metodos%20de%20Uso/dicas.ipynb#ch0000004?line=0'>1</a>\u001b[0m \u001b[39mimport\u001b[39;00m \u001b[39mpanda\u001b[39;00m \u001b[39mas\u001b[39;00m \u001b[39mpd\u001b[39;00m\n",
      "\u001b[1;31mModuleNotFoundError\u001b[0m: No module named 'panda'"
     ]
    }
   ],
   "source": [
    "import panda as pd"
   ]
  }
 ],
 "metadata": {
  "kernelspec": {
   "display_name": "Python 3.10.5 64-bit",
   "language": "python",
   "name": "python3"
  },
  "language_info": {
   "codemirror_mode": {
    "name": "ipython",
    "version": 3
   },
   "file_extension": ".py",
   "mimetype": "text/x-python",
   "name": "python",
   "nbconvert_exporter": "python",
   "pygments_lexer": "ipython3",
   "version": "3.10.5"
  },
  "orig_nbformat": 4,
  "vscode": {
   "interpreter": {
    "hash": "05e7abd86e48c818ed61a9de938025b203e1f443f714ea9235372e47a1ee3433"
   }
  }
 },
 "nbformat": 4,
 "nbformat_minor": 2
}
